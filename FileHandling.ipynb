{
 "cells": [
  {
   "cell_type": "code",
   "execution_count": 3,
   "id": "5b9e007e",
   "metadata": {},
   "outputs": [],
   "source": [
    "# When file isn't present\n",
    "f=open('sample.txt','w')\n",
    "f.write(\"Hi I am Aryan\")\n",
    "f.close()"
   ]
  },
  {
   "cell_type": "code",
   "execution_count": 4,
   "id": "2d309378",
   "metadata": {},
   "outputs": [],
   "source": [
    "# write multiline strings\n",
    "f=open('sample1.txt','w')\n",
    "f.write('Hello World')\n",
    "f.write('\\n How are you?')\n",
    "f.close()"
   ]
  },
  {
   "cell_type": "code",
   "execution_count": 5,
   "id": "69fbfbd3",
   "metadata": {},
   "outputs": [],
   "source": [
    "# IF the File is already present \n",
    "f= open('sample.txt','w')\n",
    "f.write('HI how are you')\n",
    "f.close()"
   ]
  },
  {
   "cell_type": "code",
   "execution_count": 6,
   "id": "0f199771",
   "metadata": {},
   "outputs": [],
   "source": [
    "#Intro with append mode\n",
    "f=open('sample1.txt','a')\n",
    "f.write('A new line with append mode')\n",
    "f.close()"
   ]
  },
  {
   "cell_type": "code",
   "execution_count": 16,
   "id": "79bb29b3",
   "metadata": {},
   "outputs": [],
   "source": [
    "# For writing multiple lines inside a file \n",
    "\n",
    "L = [\"Hello\",\"\\nHi\",\"\\nHow are you\",\"\\nI am great!\"]\n",
    "\n",
    "f = open('sample.txt','w')\n",
    "\n",
    "f.writelines(L)\n",
    "\n",
    "f.close()"
   ]
  },
  {
   "cell_type": "code",
   "execution_count": 18,
   "id": "63f2e376",
   "metadata": {},
   "outputs": [
    {
     "name": "stdout",
     "output_type": "stream",
     "text": [
      "Hello\n",
      "Hi\n",
      "How are you\n",
      "I am great!\n"
     ]
    }
   ],
   "source": [
    "# reading from the files\n",
    "\n",
    "file =  open('sample.txt','r')\n",
    "\n",
    "s = file.read()\n",
    "\n",
    "print(s)\n",
    "\n",
    "file.close()"
   ]
  },
  {
   "cell_type": "code",
   "execution_count": 19,
   "id": "42aa63cc",
   "metadata": {},
   "outputs": [
    {
     "name": "stdout",
     "output_type": "stream",
     "text": [
      "Hello\n",
      "Hi\n",
      "H\n"
     ]
    }
   ],
   "source": [
    "# reading upto n chars\n",
    "\n",
    "\n",
    "file =  open('sample.txt','r')\n",
    "\n",
    "s = file.read(10)\n",
    "\n",
    "print(s)\n",
    "\n",
    "file.close()"
   ]
  },
  {
   "cell_type": "code",
   "execution_count": 21,
   "id": "4c3ae951",
   "metadata": {},
   "outputs": [
    {
     "name": "stdout",
     "output_type": "stream",
     "text": [
      "Hello\n",
      " Hi\n",
      " "
     ]
    }
   ],
   "source": [
    "# read line by line \n",
    "\n",
    "f = open('sample.txt','r')\n",
    "print(f.readline(),end=' ')\n",
    "print(f.readline(),end=' ')\n",
    "f.close()"
   ]
  },
  {
   "cell_type": "markdown",
   "id": "9e1f1234",
   "metadata": {},
   "source": [
    "### Context Manager (With)\n",
    "\n",
    "- It's good idea to close a file after usage as it will free up the resources\n",
    "- If we don't close it , the garbage collector will close it.\n",
    "- with keyword closes the file as soon as the usage is over.\n"
   ]
  },
  {
   "cell_type": "code",
   "execution_count": 42,
   "id": "c9a41ad4",
   "metadata": {},
   "outputs": [],
   "source": [
    "with open('sample.txt','w') as file:\n",
    "    file.write('Hello this is using with')"
   ]
  },
  {
   "cell_type": "code",
   "execution_count": 43,
   "id": "8d6f7bf8",
   "metadata": {},
   "outputs": [
    {
     "name": "stdout",
     "output_type": "stream",
     "text": [
      "Hello World\n",
      " How are you?A new line with append mode\n"
     ]
    }
   ],
   "source": [
    "with open('sample1.txt','r') as file:\n",
    "    print(file.read())"
   ]
  },
  {
   "cell_type": "code",
   "execution_count": 46,
   "id": "02cfc3c1",
   "metadata": {},
   "outputs": [
    {
     "name": "stdout",
     "output_type": "stream",
     "text": [
      "Hello Worl\n",
      "d\n",
      " How are\n",
      " you?A new\n"
     ]
    }
   ],
   "source": [
    "# Moving with a file with 10 char then 10 char \n",
    "\n",
    "# reading in chunks\n",
    "\n",
    "with open('sample1.txt','r') as file:\n",
    "    print(file.read(10))\n",
    "    print(file.read(10))\n",
    "    print(file.read(10))    "
   ]
  },
  {
   "cell_type": "code",
   "execution_count": 48,
   "id": "c6b9a703",
   "metadata": {},
   "outputs": [],
   "source": [
    "big_L = ['Hello World\\n' for i in range(1000)]\n",
    "\n",
    "with open('big_file.txt','w') as bigfile:\n",
    "    bigfile.writelines(big_L)"
   ]
  },
  {
   "cell_type": "code",
   "execution_count": 53,
   "id": "b6eccfe8",
   "metadata": {},
   "outputs": [
    {
     "name": "stdout",
     "output_type": "stream",
     "text": [
      "o World\n",
      "Hello World\n",
      "Hello World\n",
      "Hello World\n",
      "Hello World\n",
      "Hello World\n",
      "Hello World\n",
      "Hello World\n",
      "Hello Wo***o World\n",
      "Hello World\n",
      "Hello World\n",
      "Hello World\n",
      "Hello World\n",
      "Hello World\n",
      "Hello World\n",
      "Hello World\n",
      "Hello Wo***o World\n",
      "Hello World\n",
      "Hello World\n",
      "Hello World\n",
      "Hello World\n",
      "Hello World\n",
      "Hello World\n",
      "Hello World\n",
      "Hello Wo***o World\n",
      "Hello World\n",
      "Hello World\n",
      "Hello World\n",
      "Hello World\n",
      "Hello World\n",
      "Hello World\n",
      "Hello World\n",
      "Hello Wo***o World\n",
      "Hello World\n",
      "Hello World\n",
      "Hello World\n",
      "Hello World\n",
      "Hello World\n",
      "Hello World\n",
      "Hello World\n",
      "Hello Wo***o World\n",
      "Hello World\n",
      "Hello World\n",
      "Hello World\n",
      "Hello World\n",
      "Hello World\n",
      "Hello World\n",
      "Hello World\n",
      "Hello Wo***o World\n",
      "Hello World\n",
      "Hello World\n",
      "Hello World\n",
      "Hello World\n",
      "Hello World\n",
      "Hello World\n",
      "Hello World\n",
      "Hello Wo***o World\n",
      "Hello World\n",
      "Hello World\n",
      "Hello World\n",
      "Hello World\n",
      "Hello World\n",
      "Hello World\n",
      "Hello World\n",
      "Hello Wo***o World\n",
      "Hello World\n",
      "Hello World\n",
      "Hello World\n",
      "Hello World\n",
      "Hello World\n",
      "Hello World\n",
      "Hello World\n",
      "Hello Wo***o World\n",
      "Hello World\n",
      "Hello World\n",
      "Hello World\n",
      "Hello World\n",
      "Hello World\n",
      "Hello World\n",
      "Hello World\n",
      "Hello Wo***o World\n",
      "Hello World\n",
      "Hello World\n",
      "Hello World\n",
      "Hello World\n",
      "Hello World\n",
      "Hello World\n",
      "Hello World\n",
      "Hello Wo***o World\n",
      "Hello World\n",
      "Hello World\n",
      "Hello World\n",
      "Hello World\n",
      "Hello World\n",
      "Hello World\n",
      "Hello World\n",
      "Hello Wo***o World\n",
      "Hello World\n",
      "Hello World\n",
      "Hello World\n",
      "Hello World\n",
      "Hello World\n",
      "Hello World\n",
      "Hello World\n",
      "Hello Wo***o World\n",
      "Hello World\n",
      "Hello World\n",
      "Hello World\n",
      "Hello World\n",
      "Hello World\n",
      "Hello World\n",
      "Hello World\n",
      "Hello Wo***o World\n",
      "Hello World\n",
      "Hello World\n",
      "Hello World\n",
      "Hello World\n",
      "Hello World\n",
      "Hello World\n",
      "Hello World\n",
      "Hello Wo***o World\n",
      "Hello World\n",
      "Hello World\n",
      "Hello World\n",
      "Hello World\n",
      "Hello World\n",
      "Hello World\n",
      "Hello World\n",
      "Hello Wo***o World\n",
      "Hello World\n",
      "Hello World\n",
      "Hello World\n",
      "Hello World\n",
      "Hello World\n",
      "Hello World\n",
      "Hello World\n",
      "Hello Wo***o World\n",
      "Hello World\n",
      "Hello World\n",
      "Hello World\n",
      "Hello World\n",
      "Hello World\n",
      "Hello World\n",
      "Hello World\n",
      "Hello Wo***o World\n",
      "Hello World\n",
      "Hello World\n",
      "Hello World\n",
      "Hello World\n",
      "Hello World\n",
      "Hello World\n",
      "Hello World\n",
      "Hello Wo***o World\n",
      "Hello World\n",
      "Hello World\n",
      "Hello World\n",
      "Hello World\n",
      "Hello World\n",
      "Hello World\n",
      "Hello World\n",
      "Hello Wo***o World\n",
      "Hello World\n",
      "Hello World\n",
      "Hello World\n",
      "Hello World\n",
      "Hello World\n",
      "Hello World\n",
      "Hello World\n",
      "Hello Wo***o World\n",
      "Hello World\n",
      "Hello World\n",
      "Hello World\n",
      "Hello World\n",
      "Hello World\n",
      "Hello World\n",
      "Hello World\n",
      "Hello Wo***o World\n",
      "Hello World\n",
      "Hello World\n",
      "Hello World\n",
      "Hello World\n",
      "Hello World\n",
      "Hello World\n",
      "Hello World\n",
      "Hello Wo***o World\n",
      "Hello World\n",
      "Hello World\n",
      "Hello World\n",
      "Hello World\n",
      "Hello World\n",
      "Hello World\n",
      "Hello World\n",
      "Hello Wo***o World\n",
      "Hello World\n",
      "Hello World\n",
      "Hello World\n",
      "Hello World\n",
      "Hello World\n",
      "Hello World\n",
      "Hello World\n",
      "Hello Wo***o World\n",
      "Hello World\n",
      "Hello World\n",
      "Hello World\n",
      "Hello World\n",
      "Hello World\n",
      "Hello World\n",
      "Hello World\n",
      "Hello Wo***o World\n",
      "Hello World\n",
      "Hello World\n",
      "Hello World\n",
      "Hello World\n",
      "Hello World\n",
      "Hello World\n",
      "Hello World\n",
      "Hello Wo***o World\n",
      "Hello World\n",
      "Hello World\n",
      "Hello World\n",
      "Hello World\n",
      "Hello World\n",
      "Hello World\n",
      "Hello World\n",
      "Hello Wo***o World\n",
      "Hello World\n",
      "Hello World\n",
      "Hello World\n",
      "Hello World\n",
      "Hello World\n",
      "Hello World\n",
      "Hello World\n",
      "Hello Wo***o World\n",
      "Hello World\n",
      "Hello World\n",
      "Hello World\n",
      "Hello World\n",
      "Hello World\n",
      "Hello World\n",
      "Hello World\n",
      "Hello Wo***o World\n",
      "Hello World\n",
      "Hello World\n",
      "Hello World\n",
      "Hello World\n",
      "Hello World\n",
      "Hello World\n",
      "Hello World\n",
      "Hello Wo***o World\n",
      "Hello World\n",
      "Hello World\n",
      "Hello World\n",
      "Hello World\n",
      "Hello World\n",
      "Hello World\n",
      "Hello World\n",
      "Hello Wo***o World\n",
      "Hello World\n",
      "Hello World\n",
      "Hello World\n",
      "Hello World\n",
      "Hello World\n",
      "Hello World\n",
      "Hello World\n",
      "Hello Wo***o World\n",
      "Hello World\n",
      "Hello World\n",
      "Hello World\n",
      "Hello World\n",
      "Hello World\n",
      "Hello World\n",
      "Hello World\n",
      "Hello Wo***o World\n",
      "Hello World\n",
      "Hello World\n",
      "Hello World\n",
      "Hello World\n",
      "Hello World\n",
      "Hello World\n",
      "Hello World\n",
      "Hello Wo***o World\n",
      "Hello World\n",
      "Hello World\n",
      "Hello World\n",
      "Hello World\n",
      "Hello World\n",
      "Hello World\n",
      "Hello World\n",
      "Hello Wo***o World\n",
      "Hello World\n",
      "Hello World\n",
      "Hello World\n",
      "Hello World\n",
      "Hello World\n",
      "Hello World\n",
      "Hello World\n",
      "Hello Wo***o World\n",
      "Hello World\n",
      "Hello World\n",
      "Hello World\n",
      "Hello World\n",
      "Hello World\n",
      "Hello World\n",
      "Hello World\n",
      "Hello Wo***o World\n",
      "Hello World\n",
      "Hello World\n",
      "Hello World\n",
      "Hello World\n",
      "Hello World\n",
      "Hello World\n",
      "Hello World\n",
      "Hello Wo***o World\n",
      "Hello World\n",
      "Hello World\n",
      "Hello World\n",
      "Hello World\n",
      "Hello World\n",
      "Hello World\n",
      "Hello World\n",
      "Hello Wo***"
     ]
    }
   ],
   "source": [
    "### This is how we can process a big file.\n",
    "### Although you can use pandas and keras for these kind of processes\n",
    "\n",
    "with open('big_file.txt','r') as bigfile:\n",
    "    chunk_size = 100   \n",
    "    while len(bigfile.read(chunk_size)) > 0:\n",
    "        print(bigfile.read(chunk_size),end='***')\n",
    "        bigfile.read(chunk_size)       ## This is to load the next chunk"
   ]
  },
  {
   "cell_type": "code",
   "execution_count": 54,
   "id": "b66598c2",
   "metadata": {},
   "outputs": [
    {
     "name": "stdout",
     "output_type": "stream",
     "text": [
      "Hello Worl\n",
      "10\n"
     ]
    }
   ],
   "source": [
    "# seek and tell function\n",
    "\n",
    "# tell:\n",
    " \n",
    "with open('sample1.txt','r') as file:\n",
    "    print(file.read(10))\n",
    "    print(file.tell())   # tell function tells the next character where our buffern is pointing to."
   ]
  },
  {
   "cell_type": "code",
   "execution_count": 65,
   "id": "100d5ff9",
   "metadata": {},
   "outputs": [
    {
     "name": "stdout",
     "output_type": "stream",
     "text": [
      "Hello Worl\n",
      "10\n",
      "e you?A ne\n",
      "30\n"
     ]
    }
   ],
   "source": [
    "# seek\n",
    "\n",
    "with open('sample1.txt','r') as file:\n",
    "    print(file.read(10))\n",
    "    print(file.tell())\n",
    "    file.seek()   # seek function will set our cursor to the location we are trying to set\n",
    "    print(file.read(10))\n",
    "    print(file.tell())\n",
    "    "
   ]
  },
  {
   "cell_type": "code",
   "execution_count": 66,
   "id": "469356c5",
   "metadata": {},
   "outputs": [],
   "source": [
    "# seek during write\n",
    "\n",
    "\n",
    "with open('sample1.txt','w') as file:\n",
    "    file.write('Hello How are your ?')\n",
    "    file.seek(0)\n",
    "    file.write('C')\n",
    "    \n"
   ]
  },
  {
   "cell_type": "code",
   "execution_count": 67,
   "id": "efd8d62a",
   "metadata": {},
   "outputs": [],
   "source": [
    "# working with binary files\n",
    "\n",
    "with open('images.png','rb') as binary_file:\n",
    "    with open('copy_image.png','wb') as write_binary:\n",
    "        write_binary.write(binary_file.read())"
   ]
  },
  {
   "cell_type": "markdown",
   "id": "6809de12",
   "metadata": {},
   "source": [
    "# Any Data Type inside a file needs to text \n",
    "- Files cannot work with data types like integer float decimal.\n",
    "- Although these data type can be made useful by using type casting.\n",
    "- But for other complex data types like dict, list it won't work as we cannot convert a string / text to dict."
   ]
  },
  {
   "cell_type": "markdown",
   "id": "bd32c382",
   "metadata": {},
   "source": [
    "# Serialization and Deserialization\n",
    "\n",
    "- Serialization - Process of coverting python data types into JSON format.\n",
    "- Deserialization - Process of converting JSON  to python data type."
   ]
  },
  {
   "cell_type": "code",
   "execution_count": 68,
   "id": "c24e81d3",
   "metadata": {},
   "outputs": [],
   "source": [
    "# serialization using json module\n",
    "import json\n",
    "#list\n",
    "\n",
    "\n",
    "L=[1,2,3,4,5]\n",
    "\n",
    "with open('demo.json','w') as file:\n",
    "    json.dump(L,file)"
   ]
  },
  {
   "cell_type": "code",
   "execution_count": 72,
   "id": "446169a9",
   "metadata": {},
   "outputs": [],
   "source": [
    "dict1={\n",
    "    'name':\"Aryan\",\n",
    "    'age':22,\n",
    "    'gender':\"male\"\n",
    "}\n",
    "\n",
    "with open('demo.json','w') as file:\n",
    "    json.dump(dict1,file,indent=4) # indent = 4 is used because tab consist of 4 spaces"
   ]
  },
  {
   "cell_type": "code",
   "execution_count": 75,
   "id": "fae77c0f",
   "metadata": {},
   "outputs": [
    {
     "name": "stdout",
     "output_type": "stream",
     "text": [
      "{'name': 'Aryan', 'age': 22, 'gender': 'male'}\n",
      "<class 'dict'>\n"
     ]
    }
   ],
   "source": [
    "# deserialization\n",
    "\n",
    "with open('demo.json','r') as f:\n",
    "    d=json.load(f)\n",
    "    print(d)\n",
    "    print(type(d))"
   ]
  },
  {
   "cell_type": "code",
   "execution_count": 76,
   "id": "1513bfa4",
   "metadata": {},
   "outputs": [],
   "source": [
    "# serialize and desrialize a tuple\n",
    "\n",
    "t = (1,2,3,4)\n",
    "\n",
    "with open('demo.json','w') as f:\n",
    "    json.dump(t,f)"
   ]
  },
  {
   "cell_type": "code",
   "execution_count": 79,
   "id": "6f5c9c1c",
   "metadata": {},
   "outputs": [],
   "source": [
    "# serialize and deserialize nested dict\n",
    "\n",
    "d = {\n",
    "    'name':'Aryan',\n",
    "    'marks':[12,13,15,18],\n",
    "    'sub_marks':{\n",
    "        'maths':12,\n",
    "        'sci':13,\n",
    "        'comp_sci':15,\n",
    "        'eng':18\n",
    "    }\n",
    "}\n",
    "\n",
    "with open('demo.json','w') as file:\n",
    "    json.dump(d,file,indent=4)"
   ]
  },
  {
   "cell_type": "code",
   "execution_count": 82,
   "id": "1bd54f6e",
   "metadata": {},
   "outputs": [],
   "source": [
    "with open('demo.json','r') as file:\n",
    "    dict2=json.load(file)"
   ]
  },
  {
   "cell_type": "code",
   "execution_count": 83,
   "id": "b91c9ea0",
   "metadata": {},
   "outputs": [
    {
     "data": {
      "text/plain": [
       "{'name': 'Aryan',\n",
       " 'marks': [12, 13, 15, 18],\n",
       " 'sub_marks': {'maths': 12, 'sci': 13, 'comp_sci': 15, 'eng': 18}}"
      ]
     },
     "execution_count": 83,
     "metadata": {},
     "output_type": "execute_result"
    }
   ],
   "source": [
    "dict2"
   ]
  },
  {
   "cell_type": "markdown",
   "id": "8660430e",
   "metadata": {},
   "source": [
    "### Serializing and Deserializing custom objects"
   ]
  },
  {
   "cell_type": "code",
   "execution_count": 96,
   "id": "f99d2b59",
   "metadata": {},
   "outputs": [],
   "source": [
    "class Person:\n",
    "    def __init__(self,name,age,gender):\n",
    "        self.name=name\n",
    "        self.age=age\n",
    "        self.gender=gender"
   ]
  },
  {
   "cell_type": "code",
   "execution_count": 97,
   "id": "24ca86ea",
   "metadata": {},
   "outputs": [],
   "source": [
    "p=Person('Aryan',21,'Male')"
   ]
  },
  {
   "cell_type": "code",
   "execution_count": null,
   "id": "8d3e3d16",
   "metadata": {},
   "outputs": [],
   "source": [
    "with open('demo.json','w') as f:\n",
    "    json.dump(p,f)"
   ]
  },
  {
   "cell_type": "code",
   "execution_count": 100,
   "id": "763ef46a",
   "metadata": {},
   "outputs": [],
   "source": [
    "def show_object(person):\n",
    "    if isinstance(person,Person):\n",
    "        return '{} age ----> {} gender ---->{}'.format(person.name,person.age,person.gender)\n",
    "    \n",
    "with open('demo.json','w') as f:\n",
    "    json.dump(p,f,default=show_object)\n",
    "    "
   ]
  },
  {
   "cell_type": "code",
   "execution_count": 101,
   "id": "18ddf163",
   "metadata": {},
   "outputs": [],
   "source": [
    "def show_object(person):\n",
    "    if isinstance(person,Person):\n",
    "        return {'name':person.name,'age':person.age,'gender':person.gender}\n",
    "    \n",
    "with open('demo.json','w') as f:\n",
    "    json.dump(p,f,default=show_object,indent=4)"
   ]
  },
  {
   "cell_type": "markdown",
   "id": "2bab3fbc",
   "metadata": {},
   "source": [
    "# PICKLING\n",
    "\n",
    "Pickling is the process whereby a python object hierarchy is converted into a byte stream , and upickling is the inverse operation , where by a byte stream (from a binary file or bytes-like object) is converted back into object hierarchy."
   ]
  },
  {
   "cell_type": "code",
   "execution_count": 102,
   "id": "cf6aeede",
   "metadata": {},
   "outputs": [],
   "source": [
    "class Person:\n",
    "    def __init__(self,name,age,gender):\n",
    "        self.name=name\n",
    "        self.age=age\n",
    "        self.gender=gender\n",
    "        \n",
    "    def show_info(self):\n",
    "        print(\"Hi my name is {}.I am {} and {} years old\".format(self.name,self.gender,self.age))"
   ]
  },
  {
   "cell_type": "code",
   "execution_count": 103,
   "id": "e34f3ae7",
   "metadata": {},
   "outputs": [],
   "source": [
    "P=Person(\"Aryan\",21,\"Male\")"
   ]
  },
  {
   "cell_type": "code",
   "execution_count": 105,
   "id": "e5355d7a",
   "metadata": {},
   "outputs": [],
   "source": [
    "import pickle\n",
    "\n",
    "with open('person.pkl','wb') as file:\n",
    "    pickle.dump(P,file)\n"
   ]
  },
  {
   "cell_type": "code",
   "execution_count": 106,
   "id": "5ae16abc",
   "metadata": {},
   "outputs": [],
   "source": [
    "with open('person.pkl','rb') as file:\n",
    "    d=pickle.load(file)"
   ]
  },
  {
   "cell_type": "markdown",
   "id": "b0e8c550",
   "metadata": {},
   "source": [
    "# Pickle vs Json\n",
    "\n",
    "- Pickle lets the user to store data in binary format whereas JSON lets the user to store data in human readable text only."
   ]
  },
  {
   "cell_type": "code",
   "execution_count": null,
   "id": "b5200d0e",
   "metadata": {},
   "outputs": [],
   "source": []
  },
  {
   "cell_type": "code",
   "execution_count": null,
   "id": "3906f7c0",
   "metadata": {},
   "outputs": [],
   "source": []
  },
  {
   "cell_type": "code",
   "execution_count": null,
   "id": "9ab9e286",
   "metadata": {},
   "outputs": [],
   "source": []
  },
  {
   "cell_type": "code",
   "execution_count": null,
   "id": "0a19f9f7",
   "metadata": {},
   "outputs": [],
   "source": []
  },
  {
   "cell_type": "code",
   "execution_count": null,
   "id": "c51f50c2",
   "metadata": {},
   "outputs": [],
   "source": []
  },
  {
   "cell_type": "code",
   "execution_count": null,
   "id": "16ccaf6c",
   "metadata": {},
   "outputs": [],
   "source": []
  },
  {
   "cell_type": "code",
   "execution_count": null,
   "id": "63667afb",
   "metadata": {},
   "outputs": [],
   "source": []
  },
  {
   "cell_type": "code",
   "execution_count": null,
   "id": "6f98a5e0",
   "metadata": {},
   "outputs": [],
   "source": []
  },
  {
   "cell_type": "code",
   "execution_count": null,
   "id": "99146ab4",
   "metadata": {},
   "outputs": [],
   "source": []
  },
  {
   "cell_type": "code",
   "execution_count": null,
   "id": "001f717a",
   "metadata": {},
   "outputs": [],
   "source": []
  },
  {
   "cell_type": "code",
   "execution_count": null,
   "id": "ac03917e",
   "metadata": {},
   "outputs": [],
   "source": []
  },
  {
   "cell_type": "code",
   "execution_count": null,
   "id": "98a89eeb",
   "metadata": {},
   "outputs": [],
   "source": []
  },
  {
   "cell_type": "code",
   "execution_count": null,
   "id": "ce27e196",
   "metadata": {},
   "outputs": [],
   "source": []
  },
  {
   "cell_type": "code",
   "execution_count": null,
   "id": "a3b77e5f",
   "metadata": {},
   "outputs": [],
   "source": []
  },
  {
   "cell_type": "code",
   "execution_count": null,
   "id": "842773fe",
   "metadata": {},
   "outputs": [],
   "source": []
  }
 ],
 "metadata": {
  "kernelspec": {
   "display_name": "Python 3 (ipykernel)",
   "language": "python",
   "name": "python3"
  },
  "language_info": {
   "codemirror_mode": {
    "name": "ipython",
    "version": 3
   },
   "file_extension": ".py",
   "mimetype": "text/x-python",
   "name": "python",
   "nbconvert_exporter": "python",
   "pygments_lexer": "ipython3",
   "version": "3.9.7"
  }
 },
 "nbformat": 4,
 "nbformat_minor": 5
}

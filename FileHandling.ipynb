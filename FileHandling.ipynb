{
 "cells": [
  {
   "cell_type": "code",
   "execution_count": 3,
   "id": "2c3ac274",
   "metadata": {},
   "outputs": [],
   "source": [
    "# When file isn't present\n",
    "f=open('sample.txt','w')\n",
    "f.write(\"Hi I am Aryan\")\n",
    "f.close()"
   ]
  },
  {
   "cell_type": "code",
   "execution_count": 4,
   "id": "2a2a3c38",
   "metadata": {},
   "outputs": [],
   "source": [
    "# write multiline strings\n",
    "f=open('sample1.txt','w')\n",
    "f.write('Hello World')\n",
    "f.write('\\n How are you?')\n",
    "f.close()"
   ]
  },
  {
   "cell_type": "code",
   "execution_count": 5,
   "id": "13d2f498",
   "metadata": {},
   "outputs": [],
   "source": [
    "# IF the File is already present \n",
    "f= open('sample.txt','w')\n",
    "f.write('HI how are you')\n",
    "f.close()"
   ]
  },
  {
   "cell_type": "code",
   "execution_count": 6,
   "id": "b7cd89d5",
   "metadata": {},
   "outputs": [],
   "source": [
    "#Intro with append mode\n",
    "f=open('sample1.txt','a')\n",
    "f.write('A new line with append mode')\n",
    "f.close()"
   ]
  },
  {
   "cell_type": "code",
   "execution_count": 16,
   "id": "58fb6b5b",
   "metadata": {},
   "outputs": [],
   "source": [
    "# For writing multiple lines inside a file \n",
    "\n",
    "L = [\"Hello\",\"\\nHi\",\"\\nHow are you\",\"\\nI am great!\"]\n",
    "\n",
    "f = open('sample.txt','w')\n",
    "\n",
    "f.writelines(L)\n",
    "\n",
    "f.close()"
   ]
  },
  {
   "cell_type": "code",
   "execution_count": 18,
   "id": "48038f10",
   "metadata": {},
   "outputs": [
    {
     "name": "stdout",
     "output_type": "stream",
     "text": [
      "Hello\n",
      "Hi\n",
      "How are you\n",
      "I am great!\n"
     ]
    }
   ],
   "source": [
    "# reading from the files\n",
    "\n",
    "file =  open('sample.txt','r')\n",
    "\n",
    "s = file.read()\n",
    "\n",
    "print(s)\n",
    "\n",
    "file.close()"
   ]
  },
  {
   "cell_type": "code",
   "execution_count": 19,
   "id": "ed493cf1",
   "metadata": {},
   "outputs": [
    {
     "name": "stdout",
     "output_type": "stream",
     "text": [
      "Hello\n",
      "Hi\n",
      "H\n"
     ]
    }
   ],
   "source": [
    "# reading upto n chars\n",
    "\n",
    "\n",
    "file =  open('sample.txt','r')\n",
    "\n",
    "s = file.read(10)\n",
    "\n",
    "print(s)\n",
    "\n",
    "file.close()"
   ]
  },
  {
   "cell_type": "code",
   "execution_count": 21,
   "id": "33495be6",
   "metadata": {},
   "outputs": [
    {
     "name": "stdout",
     "output_type": "stream",
     "text": [
      "Hello\n",
      " Hi\n",
      " "
     ]
    }
   ],
   "source": [
    "# read line by line \n",
    "\n",
    "f = open('sample.txt','r')\n",
    "print(f.readline(),end=' ')\n",
    "print(f.readline(),end=' ')\n",
    "f.close()"
   ]
  },
  {
   "cell_type": "markdown",
   "id": "b3eb86b9",
   "metadata": {},
   "source": [
    "### Context Manager (With)\n",
    "\n",
    "- It's good idea to close a file after usage as it will free up the resources\n",
    "- If we don't close it , the garbage collector will close it.\n",
    "- with keyword closes the file as soon as the usage is over.\n"
   ]
  },
  {
   "cell_type": "code",
   "execution_count": 42,
   "id": "c8219081",
   "metadata": {},
   "outputs": [],
   "source": [
    "with open('sample.txt','w') as file:\n",
    "    file.write('Hello this is using with')"
   ]
  },
  {
   "cell_type": "code",
   "execution_count": 43,
   "id": "7006bd41",
   "metadata": {},
   "outputs": [
    {
     "name": "stdout",
     "output_type": "stream",
     "text": [
      "Hello World\n",
      " How are you?A new line with append mode\n"
     ]
    }
   ],
   "source": [
    "with open('sample1.txt','r') as file:\n",
    "    print(file.read())"
   ]
  },
  {
   "cell_type": "code",
   "execution_count": 46,
   "id": "34bc704d",
   "metadata": {},
   "outputs": [
    {
     "name": "stdout",
     "output_type": "stream",
     "text": [
      "Hello Worl\n",
      "d\n",
      " How are\n",
      " you?A new\n"
     ]
    }
   ],
   "source": [
    "# Moving with a file with 10 char then 10 char \n",
    "\n",
    "# reading in chunks\n",
    "\n",
    "with open('sample1.txt','r') as file:\n",
    "    print(file.read(10))\n",
    "    print(file.read(10))\n",
    "    print(file.read(10))    "
   ]
  },
  {
   "cell_type": "code",
   "execution_count": 48,
   "id": "30f24ffb",
   "metadata": {},
   "outputs": [],
   "source": [
    "big_L = ['Hello World\\n' for i in range(1000)]\n",
    "\n",
    "with open('big_file.txt','w') as bigfile:\n",
    "    bigfile.writelines(big_L)"
   ]
  },
  {
   "cell_type": "code",
   "execution_count": 53,
   "id": "03d22554",
   "metadata": {},
   "outputs": [
    {
     "name": "stdout",
     "output_type": "stream",
     "text": [
      "o World\n",
      "Hello World\n",
      "Hello World\n",
      "Hello World\n",
      "Hello World\n",
      "Hello World\n",
      "Hello World\n",
      "Hello World\n",
      "Hello Wo***o World\n",
      "Hello World\n",
      "Hello World\n",
      "Hello World\n",
      "Hello World\n",
      "Hello World\n",
      "Hello World\n",
      "Hello World\n",
      "Hello Wo***o World\n",
      "Hello World\n",
      "Hello World\n",
      "Hello World\n",
      "Hello World\n",
      "Hello World\n",
      "Hello World\n",
      "Hello World\n",
      "Hello Wo***o World\n",
      "Hello World\n",
      "Hello World\n",
      "Hello World\n",
      "Hello World\n",
      "Hello World\n",
      "Hello World\n",
      "Hello World\n",
      "Hello Wo***o World\n",
      "Hello World\n",
      "Hello World\n",
      "Hello World\n",
      "Hello World\n",
      "Hello World\n",
      "Hello World\n",
      "Hello World\n",
      "Hello Wo***o World\n",
      "Hello World\n",
      "Hello World\n",
      "Hello World\n",
      "Hello World\n",
      "Hello World\n",
      "Hello World\n",
      "Hello World\n",
      "Hello Wo***o World\n",
      "Hello World\n",
      "Hello World\n",
      "Hello World\n",
      "Hello World\n",
      "Hello World\n",
      "Hello World\n",
      "Hello World\n",
      "Hello Wo***o World\n",
      "Hello World\n",
      "Hello World\n",
      "Hello World\n",
      "Hello World\n",
      "Hello World\n",
      "Hello World\n",
      "Hello World\n",
      "Hello Wo***o World\n",
      "Hello World\n",
      "Hello World\n",
      "Hello World\n",
      "Hello World\n",
      "Hello World\n",
      "Hello World\n",
      "Hello World\n",
      "Hello Wo***o World\n",
      "Hello World\n",
      "Hello World\n",
      "Hello World\n",
      "Hello World\n",
      "Hello World\n",
      "Hello World\n",
      "Hello World\n",
      "Hello Wo***o World\n",
      "Hello World\n",
      "Hello World\n",
      "Hello World\n",
      "Hello World\n",
      "Hello World\n",
      "Hello World\n",
      "Hello World\n",
      "Hello Wo***o World\n",
      "Hello World\n",
      "Hello World\n",
      "Hello World\n",
      "Hello World\n",
      "Hello World\n",
      "Hello World\n",
      "Hello World\n",
      "Hello Wo***o World\n",
      "Hello World\n",
      "Hello World\n",
      "Hello World\n",
      "Hello World\n",
      "Hello World\n",
      "Hello World\n",
      "Hello World\n",
      "Hello Wo***o World\n",
      "Hello World\n",
      "Hello World\n",
      "Hello World\n",
      "Hello World\n",
      "Hello World\n",
      "Hello World\n",
      "Hello World\n",
      "Hello Wo***o World\n",
      "Hello World\n",
      "Hello World\n",
      "Hello World\n",
      "Hello World\n",
      "Hello World\n",
      "Hello World\n",
      "Hello World\n",
      "Hello Wo***o World\n",
      "Hello World\n",
      "Hello World\n",
      "Hello World\n",
      "Hello World\n",
      "Hello World\n",
      "Hello World\n",
      "Hello World\n",
      "Hello Wo***o World\n",
      "Hello World\n",
      "Hello World\n",
      "Hello World\n",
      "Hello World\n",
      "Hello World\n",
      "Hello World\n",
      "Hello World\n",
      "Hello Wo***o World\n",
      "Hello World\n",
      "Hello World\n",
      "Hello World\n",
      "Hello World\n",
      "Hello World\n",
      "Hello World\n",
      "Hello World\n",
      "Hello Wo***o World\n",
      "Hello World\n",
      "Hello World\n",
      "Hello World\n",
      "Hello World\n",
      "Hello World\n",
      "Hello World\n",
      "Hello World\n",
      "Hello Wo***o World\n",
      "Hello World\n",
      "Hello World\n",
      "Hello World\n",
      "Hello World\n",
      "Hello World\n",
      "Hello World\n",
      "Hello World\n",
      "Hello Wo***o World\n",
      "Hello World\n",
      "Hello World\n",
      "Hello World\n",
      "Hello World\n",
      "Hello World\n",
      "Hello World\n",
      "Hello World\n",
      "Hello Wo***o World\n",
      "Hello World\n",
      "Hello World\n",
      "Hello World\n",
      "Hello World\n",
      "Hello World\n",
      "Hello World\n",
      "Hello World\n",
      "Hello Wo***o World\n",
      "Hello World\n",
      "Hello World\n",
      "Hello World\n",
      "Hello World\n",
      "Hello World\n",
      "Hello World\n",
      "Hello World\n",
      "Hello Wo***o World\n",
      "Hello World\n",
      "Hello World\n",
      "Hello World\n",
      "Hello World\n",
      "Hello World\n",
      "Hello World\n",
      "Hello World\n",
      "Hello Wo***o World\n",
      "Hello World\n",
      "Hello World\n",
      "Hello World\n",
      "Hello World\n",
      "Hello World\n",
      "Hello World\n",
      "Hello World\n",
      "Hello Wo***o World\n",
      "Hello World\n",
      "Hello World\n",
      "Hello World\n",
      "Hello World\n",
      "Hello World\n",
      "Hello World\n",
      "Hello World\n",
      "Hello Wo***o World\n",
      "Hello World\n",
      "Hello World\n",
      "Hello World\n",
      "Hello World\n",
      "Hello World\n",
      "Hello World\n",
      "Hello World\n",
      "Hello Wo***o World\n",
      "Hello World\n",
      "Hello World\n",
      "Hello World\n",
      "Hello World\n",
      "Hello World\n",
      "Hello World\n",
      "Hello World\n",
      "Hello Wo***o World\n",
      "Hello World\n",
      "Hello World\n",
      "Hello World\n",
      "Hello World\n",
      "Hello World\n",
      "Hello World\n",
      "Hello World\n",
      "Hello Wo***o World\n",
      "Hello World\n",
      "Hello World\n",
      "Hello World\n",
      "Hello World\n",
      "Hello World\n",
      "Hello World\n",
      "Hello World\n",
      "Hello Wo***o World\n",
      "Hello World\n",
      "Hello World\n",
      "Hello World\n",
      "Hello World\n",
      "Hello World\n",
      "Hello World\n",
      "Hello World\n",
      "Hello Wo***o World\n",
      "Hello World\n",
      "Hello World\n",
      "Hello World\n",
      "Hello World\n",
      "Hello World\n",
      "Hello World\n",
      "Hello World\n",
      "Hello Wo***o World\n",
      "Hello World\n",
      "Hello World\n",
      "Hello World\n",
      "Hello World\n",
      "Hello World\n",
      "Hello World\n",
      "Hello World\n",
      "Hello Wo***o World\n",
      "Hello World\n",
      "Hello World\n",
      "Hello World\n",
      "Hello World\n",
      "Hello World\n",
      "Hello World\n",
      "Hello World\n",
      "Hello Wo***o World\n",
      "Hello World\n",
      "Hello World\n",
      "Hello World\n",
      "Hello World\n",
      "Hello World\n",
      "Hello World\n",
      "Hello World\n",
      "Hello Wo***o World\n",
      "Hello World\n",
      "Hello World\n",
      "Hello World\n",
      "Hello World\n",
      "Hello World\n",
      "Hello World\n",
      "Hello World\n",
      "Hello Wo***o World\n",
      "Hello World\n",
      "Hello World\n",
      "Hello World\n",
      "Hello World\n",
      "Hello World\n",
      "Hello World\n",
      "Hello World\n",
      "Hello Wo***o World\n",
      "Hello World\n",
      "Hello World\n",
      "Hello World\n",
      "Hello World\n",
      "Hello World\n",
      "Hello World\n",
      "Hello World\n",
      "Hello Wo***o World\n",
      "Hello World\n",
      "Hello World\n",
      "Hello World\n",
      "Hello World\n",
      "Hello World\n",
      "Hello World\n",
      "Hello World\n",
      "Hello Wo***o World\n",
      "Hello World\n",
      "Hello World\n",
      "Hello World\n",
      "Hello World\n",
      "Hello World\n",
      "Hello World\n",
      "Hello World\n",
      "Hello Wo***"
     ]
    }
   ],
   "source": [
    "### This is how we can process a big file.\n",
    "### Although you can use pandas and keras for these kind of processes\n",
    "\n",
    "with open('big_file.txt','r') as bigfile:\n",
    "    chunk_size = 100   \n",
    "    while len(bigfile.read(chunk_size)) > 0:\n",
    "        print(bigfile.read(chunk_size),end='***')\n",
    "        bigfile.read(chunk_size)       ## This is to load the next chunk"
   ]
  },
  {
   "cell_type": "code",
   "execution_count": 54,
   "id": "bb8b1597",
   "metadata": {},
   "outputs": [
    {
     "name": "stdout",
     "output_type": "stream",
     "text": [
      "Hello Worl\n",
      "10\n"
     ]
    }
   ],
   "source": [
    "# seek and tell function\n",
    "\n",
    "# tell:\n",
    " \n",
    "with open('sample1.txt','r') as file:\n",
    "    print(file.read(10))\n",
    "    print(file.tell())   # tell function tells the next character where our buffern is pointing to."
   ]
  },
  {
   "cell_type": "code",
   "execution_count": 65,
   "id": "2c73d419",
   "metadata": {},
   "outputs": [
    {
     "name": "stdout",
     "output_type": "stream",
     "text": [
      "Hello Worl\n",
      "10\n",
      "e you?A ne\n",
      "30\n"
     ]
    }
   ],
   "source": [
    "# seek\n",
    "\n",
    "with open('sample1.txt','r') as file:\n",
    "    print(file.read(10))\n",
    "    print(file.tell())\n",
    "    file.seek()   # seek function will set our cursor to the location we are trying to set\n",
    "    print(file.read(10))\n",
    "    print(file.tell())\n",
    "    "
   ]
  },
  {
   "cell_type": "code",
   "execution_count": 66,
   "id": "1d10f3e9",
   "metadata": {},
   "outputs": [],
   "source": [
    "# seek during write\n",
    "\n",
    "\n",
    "with open('sample1.txt','w') as file:\n",
    "    file.write('Hello How are your ?')\n",
    "    file.seek(0)\n",
    "    file.write('C')\n",
    "    \n"
   ]
  },
  {
   "cell_type": "code",
   "execution_count": 67,
   "id": "89d0a1bb",
   "metadata": {},
   "outputs": [],
   "source": [
    "# working with binary files\n",
    "\n",
    "with open('images.png','rb') as binary_file:\n",
    "    with open('copy_image.png','wb') as write_binary:\n",
    "        write_binary.write(binary_file.read())"
   ]
  },
  {
   "cell_type": "markdown",
   "id": "80939a45",
   "metadata": {},
   "source": [
    "# Any Data Type inside a file needs to text \n",
    "- Files cannot work with data types like integer float decimal.\n",
    "- Although these data type can be made useful by using type casting.\n",
    "- But for other complex data types like dict, list it won't work as we cannot convert a string / text to dict."
   ]
  },
  {
   "cell_type": "code",
   "execution_count": null,
   "id": "18e02757",
   "metadata": {},
   "outputs": [],
   "source": []
  },
  {
   "cell_type": "code",
   "execution_count": null,
   "id": "ff79f743",
   "metadata": {},
   "outputs": [],
   "source": []
  },
  {
   "cell_type": "code",
   "execution_count": null,
   "id": "2b14002d",
   "metadata": {},
   "outputs": [],
   "source": []
  },
  {
   "cell_type": "code",
   "execution_count": null,
   "id": "ed7414a9",
   "metadata": {},
   "outputs": [],
   "source": []
  },
  {
   "cell_type": "code",
   "execution_count": null,
   "id": "daf5fa35",
   "metadata": {},
   "outputs": [],
   "source": []
  },
  {
   "cell_type": "code",
   "execution_count": null,
   "id": "87a51cba",
   "metadata": {},
   "outputs": [],
   "source": []
  },
  {
   "cell_type": "code",
   "execution_count": null,
   "id": "9b561587",
   "metadata": {},
   "outputs": [],
   "source": []
  },
  {
   "cell_type": "code",
   "execution_count": null,
   "id": "f1e5a15c",
   "metadata": {},
   "outputs": [],
   "source": []
  },
  {
   "cell_type": "code",
   "execution_count": null,
   "id": "630a2cd1",
   "metadata": {},
   "outputs": [],
   "source": []
  },
  {
   "cell_type": "code",
   "execution_count": null,
   "id": "2447772b",
   "metadata": {},
   "outputs": [],
   "source": []
  },
  {
   "cell_type": "code",
   "execution_count": null,
   "id": "4c0e8ba5",
   "metadata": {},
   "outputs": [],
   "source": []
  },
  {
   "cell_type": "code",
   "execution_count": null,
   "id": "95069090",
   "metadata": {},
   "outputs": [],
   "source": []
  },
  {
   "cell_type": "code",
   "execution_count": null,
   "id": "c922fc3b",
   "metadata": {},
   "outputs": [],
   "source": []
  }
 ],
 "metadata": {
  "kernelspec": {
   "display_name": "Python 3 (ipykernel)",
   "language": "python",
   "name": "python3"
  },
  "language_info": {
   "codemirror_mode": {
    "name": "ipython",
    "version": 3
   },
   "file_extension": ".py",
   "mimetype": "text/x-python",
   "name": "python",
   "nbconvert_exporter": "python",
   "pygments_lexer": "ipython3",
   "version": "3.9.7"
  }
 },
 "nbformat": 4,
 "nbformat_minor": 5
}

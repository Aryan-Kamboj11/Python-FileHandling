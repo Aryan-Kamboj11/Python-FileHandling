{
 "cells": [
  {
   "cell_type": "code",
   "execution_count": 3,
   "id": "446e8437",
   "metadata": {},
   "outputs": [],
   "source": [
    "# When file isn't present\n",
    "f=open('sample.txt','w')\n",
    "f.write(\"Hi I am Aryan\")\n",
    "f.close()"
   ]
  },
  {
   "cell_type": "code",
   "execution_count": 4,
   "id": "8fc7a1af",
   "metadata": {},
   "outputs": [],
   "source": [
    "# write multiline strings\n",
    "f=open('sample1.txt','w')\n",
    "f.write('Hello World')\n",
    "f.write('\\n How are you?')\n",
    "f.close()"
   ]
  },
  {
   "cell_type": "code",
   "execution_count": 5,
   "id": "f080d2ee",
   "metadata": {},
   "outputs": [],
   "source": [
    "# IF the File is already present \n",
    "f= open('sample.txt','w')\n",
    "f.write('HI how are you')\n",
    "f.close()"
   ]
  },
  {
   "cell_type": "code",
   "execution_count": 6,
   "id": "91a25fba",
   "metadata": {},
   "outputs": [],
   "source": [
    "#Intro with append mode\n",
    "f=open('sample1.txt','a')\n",
    "f.write('A new line with append mode')\n",
    "f.close()"
   ]
  },
  {
   "cell_type": "code",
   "execution_count": 16,
   "id": "8d1f43b8",
   "metadata": {},
   "outputs": [],
   "source": [
    "# For writing multiple lines inside a file \n",
    "\n",
    "L = [\"Hello\",\"\\nHi\",\"\\nHow are you\",\"\\nI am great!\"]\n",
    "\n",
    "f = open('sample.txt','w')\n",
    "\n",
    "f.writelines(L)\n",
    "\n",
    "f.close()"
   ]
  },
  {
   "cell_type": "code",
   "execution_count": 18,
   "id": "efcbac3c",
   "metadata": {},
   "outputs": [
    {
     "name": "stdout",
     "output_type": "stream",
     "text": [
      "Hello\n",
      "Hi\n",
      "How are you\n",
      "I am great!\n"
     ]
    }
   ],
   "source": [
    "# reading from the files\n",
    "\n",
    "file =  open('sample.txt','r')\n",
    "\n",
    "s = file.read()\n",
    "\n",
    "print(s)\n",
    "\n",
    "file.close()"
   ]
  },
  {
   "cell_type": "code",
   "execution_count": 19,
   "id": "3ba43265",
   "metadata": {},
   "outputs": [
    {
     "name": "stdout",
     "output_type": "stream",
     "text": [
      "Hello\n",
      "Hi\n",
      "H\n"
     ]
    }
   ],
   "source": [
    "# reading upto n chars\n",
    "\n",
    "\n",
    "file =  open('sample.txt','r')\n",
    "\n",
    "s = file.read(10)\n",
    "\n",
    "print(s)\n",
    "\n",
    "file.close()"
   ]
  },
  {
   "cell_type": "code",
   "execution_count": 21,
   "id": "382e9b15",
   "metadata": {},
   "outputs": [
    {
     "name": "stdout",
     "output_type": "stream",
     "text": [
      "Hello\n",
      " Hi\n",
      " "
     ]
    }
   ],
   "source": [
    "# read line by line \n",
    "\n",
    "f = open('sample.txt','r')\n",
    "print(f.readline(),end=' ')\n",
    "print(f.readline(),end=' ')\n",
    "f.close()"
   ]
  },
  {
   "cell_type": "markdown",
   "id": "9c816121",
   "metadata": {},
   "source": [
    "### Context Manager (With)\n",
    "\n",
    "- It's good idea to close a file after usage as it will free up the resources\n",
    "- If we don't close it , the garbage collector will close it.\n",
    "- with keyword closes the file as soon as the usage is over.\n"
   ]
  },
  {
   "cell_type": "code",
   "execution_count": 42,
   "id": "3551fea1",
   "metadata": {},
   "outputs": [],
   "source": [
    "with open('sample.txt','w') as file:\n",
    "    file.write('Hello this is using with')"
   ]
  },
  {
   "cell_type": "code",
   "execution_count": 43,
   "id": "b2fa02d6",
   "metadata": {},
   "outputs": [
    {
     "name": "stdout",
     "output_type": "stream",
     "text": [
      "Hello World\n",
      " How are you?A new line with append mode\n"
     ]
    }
   ],
   "source": [
    "with open('sample1.txt','r') as file:\n",
    "    print(file.read())"
   ]
  },
  {
   "cell_type": "code",
   "execution_count": 46,
   "id": "f221cd0c",
   "metadata": {},
   "outputs": [
    {
     "name": "stdout",
     "output_type": "stream",
     "text": [
      "Hello Worl\n",
      "d\n",
      " How are\n",
      " you?A new\n"
     ]
    }
   ],
   "source": [
    "# Moving with a file with 10 char then 10 char \n",
    "\n",
    "# reading in chunks\n",
    "\n",
    "with open('sample1.txt','r') as file:\n",
    "    print(file.read(10))\n",
    "    print(file.read(10))\n",
    "    print(file.read(10))    "
   ]
  },
  {
   "cell_type": "code",
   "execution_count": 48,
   "id": "b3eebc77",
   "metadata": {},
   "outputs": [],
   "source": [
    "big_L = ['Hello World\\n' for i in range(1000)]\n",
    "\n",
    "with open('big_file.txt','w') as bigfile:\n",
    "    bigfile.writelines(big_L)"
   ]
  },
  {
   "cell_type": "code",
   "execution_count": 53,
   "id": "7b0744a0",
   "metadata": {},
   "outputs": [
    {
     "name": "stdout",
     "output_type": "stream",
     "text": [
      "o World\n",
      "Hello World\n",
      "Hello World\n",
      "Hello World\n",
      "Hello World\n",
      "Hello World\n",
      "Hello World\n",
      "Hello World\n",
      "Hello Wo***o World\n",
      "Hello World\n",
      "Hello World\n",
      "Hello World\n",
      "Hello World\n",
      "Hello World\n",
      "Hello World\n",
      "Hello World\n",
      "Hello Wo***o World\n",
      "Hello World\n",
      "Hello World\n",
      "Hello World\n",
      "Hello World\n",
      "Hello World\n",
      "Hello World\n",
      "Hello World\n",
      "Hello Wo***o World\n",
      "Hello World\n",
      "Hello World\n",
      "Hello World\n",
      "Hello World\n",
      "Hello World\n",
      "Hello World\n",
      "Hello World\n",
      "Hello Wo***o World\n",
      "Hello World\n",
      "Hello World\n",
      "Hello World\n",
      "Hello World\n",
      "Hello World\n",
      "Hello World\n",
      "Hello World\n",
      "Hello Wo***o World\n",
      "Hello World\n",
      "Hello World\n",
      "Hello World\n",
      "Hello World\n",
      "Hello World\n",
      "Hello World\n",
      "Hello World\n",
      "Hello Wo***o World\n",
      "Hello World\n",
      "Hello World\n",
      "Hello World\n",
      "Hello World\n",
      "Hello World\n",
      "Hello World\n",
      "Hello World\n",
      "Hello Wo***o World\n",
      "Hello World\n",
      "Hello World\n",
      "Hello World\n",
      "Hello World\n",
      "Hello World\n",
      "Hello World\n",
      "Hello World\n",
      "Hello Wo***o World\n",
      "Hello World\n",
      "Hello World\n",
      "Hello World\n",
      "Hello World\n",
      "Hello World\n",
      "Hello World\n",
      "Hello World\n",
      "Hello Wo***o World\n",
      "Hello World\n",
      "Hello World\n",
      "Hello World\n",
      "Hello World\n",
      "Hello World\n",
      "Hello World\n",
      "Hello World\n",
      "Hello Wo***o World\n",
      "Hello World\n",
      "Hello World\n",
      "Hello World\n",
      "Hello World\n",
      "Hello World\n",
      "Hello World\n",
      "Hello World\n",
      "Hello Wo***o World\n",
      "Hello World\n",
      "Hello World\n",
      "Hello World\n",
      "Hello World\n",
      "Hello World\n",
      "Hello World\n",
      "Hello World\n",
      "Hello Wo***o World\n",
      "Hello World\n",
      "Hello World\n",
      "Hello World\n",
      "Hello World\n",
      "Hello World\n",
      "Hello World\n",
      "Hello World\n",
      "Hello Wo***o World\n",
      "Hello World\n",
      "Hello World\n",
      "Hello World\n",
      "Hello World\n",
      "Hello World\n",
      "Hello World\n",
      "Hello World\n",
      "Hello Wo***o World\n",
      "Hello World\n",
      "Hello World\n",
      "Hello World\n",
      "Hello World\n",
      "Hello World\n",
      "Hello World\n",
      "Hello World\n",
      "Hello Wo***o World\n",
      "Hello World\n",
      "Hello World\n",
      "Hello World\n",
      "Hello World\n",
      "Hello World\n",
      "Hello World\n",
      "Hello World\n",
      "Hello Wo***o World\n",
      "Hello World\n",
      "Hello World\n",
      "Hello World\n",
      "Hello World\n",
      "Hello World\n",
      "Hello World\n",
      "Hello World\n",
      "Hello Wo***o World\n",
      "Hello World\n",
      "Hello World\n",
      "Hello World\n",
      "Hello World\n",
      "Hello World\n",
      "Hello World\n",
      "Hello World\n",
      "Hello Wo***o World\n",
      "Hello World\n",
      "Hello World\n",
      "Hello World\n",
      "Hello World\n",
      "Hello World\n",
      "Hello World\n",
      "Hello World\n",
      "Hello Wo***o World\n",
      "Hello World\n",
      "Hello World\n",
      "Hello World\n",
      "Hello World\n",
      "Hello World\n",
      "Hello World\n",
      "Hello World\n",
      "Hello Wo***o World\n",
      "Hello World\n",
      "Hello World\n",
      "Hello World\n",
      "Hello World\n",
      "Hello World\n",
      "Hello World\n",
      "Hello World\n",
      "Hello Wo***o World\n",
      "Hello World\n",
      "Hello World\n",
      "Hello World\n",
      "Hello World\n",
      "Hello World\n",
      "Hello World\n",
      "Hello World\n",
      "Hello Wo***o World\n",
      "Hello World\n",
      "Hello World\n",
      "Hello World\n",
      "Hello World\n",
      "Hello World\n",
      "Hello World\n",
      "Hello World\n",
      "Hello Wo***o World\n",
      "Hello World\n",
      "Hello World\n",
      "Hello World\n",
      "Hello World\n",
      "Hello World\n",
      "Hello World\n",
      "Hello World\n",
      "Hello Wo***o World\n",
      "Hello World\n",
      "Hello World\n",
      "Hello World\n",
      "Hello World\n",
      "Hello World\n",
      "Hello World\n",
      "Hello World\n",
      "Hello Wo***o World\n",
      "Hello World\n",
      "Hello World\n",
      "Hello World\n",
      "Hello World\n",
      "Hello World\n",
      "Hello World\n",
      "Hello World\n",
      "Hello Wo***o World\n",
      "Hello World\n",
      "Hello World\n",
      "Hello World\n",
      "Hello World\n",
      "Hello World\n",
      "Hello World\n",
      "Hello World\n",
      "Hello Wo***o World\n",
      "Hello World\n",
      "Hello World\n",
      "Hello World\n",
      "Hello World\n",
      "Hello World\n",
      "Hello World\n",
      "Hello World\n",
      "Hello Wo***o World\n",
      "Hello World\n",
      "Hello World\n",
      "Hello World\n",
      "Hello World\n",
      "Hello World\n",
      "Hello World\n",
      "Hello World\n",
      "Hello Wo***o World\n",
      "Hello World\n",
      "Hello World\n",
      "Hello World\n",
      "Hello World\n",
      "Hello World\n",
      "Hello World\n",
      "Hello World\n",
      "Hello Wo***o World\n",
      "Hello World\n",
      "Hello World\n",
      "Hello World\n",
      "Hello World\n",
      "Hello World\n",
      "Hello World\n",
      "Hello World\n",
      "Hello Wo***o World\n",
      "Hello World\n",
      "Hello World\n",
      "Hello World\n",
      "Hello World\n",
      "Hello World\n",
      "Hello World\n",
      "Hello World\n",
      "Hello Wo***o World\n",
      "Hello World\n",
      "Hello World\n",
      "Hello World\n",
      "Hello World\n",
      "Hello World\n",
      "Hello World\n",
      "Hello World\n",
      "Hello Wo***o World\n",
      "Hello World\n",
      "Hello World\n",
      "Hello World\n",
      "Hello World\n",
      "Hello World\n",
      "Hello World\n",
      "Hello World\n",
      "Hello Wo***o World\n",
      "Hello World\n",
      "Hello World\n",
      "Hello World\n",
      "Hello World\n",
      "Hello World\n",
      "Hello World\n",
      "Hello World\n",
      "Hello Wo***o World\n",
      "Hello World\n",
      "Hello World\n",
      "Hello World\n",
      "Hello World\n",
      "Hello World\n",
      "Hello World\n",
      "Hello World\n",
      "Hello Wo***o World\n",
      "Hello World\n",
      "Hello World\n",
      "Hello World\n",
      "Hello World\n",
      "Hello World\n",
      "Hello World\n",
      "Hello World\n",
      "Hello Wo***o World\n",
      "Hello World\n",
      "Hello World\n",
      "Hello World\n",
      "Hello World\n",
      "Hello World\n",
      "Hello World\n",
      "Hello World\n",
      "Hello Wo***o World\n",
      "Hello World\n",
      "Hello World\n",
      "Hello World\n",
      "Hello World\n",
      "Hello World\n",
      "Hello World\n",
      "Hello World\n",
      "Hello Wo***o World\n",
      "Hello World\n",
      "Hello World\n",
      "Hello World\n",
      "Hello World\n",
      "Hello World\n",
      "Hello World\n",
      "Hello World\n",
      "Hello Wo***"
     ]
    }
   ],
   "source": [
    "### This is how we can process a big file.\n",
    "### Although you can use pandas and keras for these kind of processes\n",
    "\n",
    "with open('big_file.txt','r') as bigfile:\n",
    "    chunk_size = 100   \n",
    "    while len(bigfile.read(chunk_size)) > 0:\n",
    "        print(bigfile.read(chunk_size),end='***')\n",
    "        bigfile.read(chunk_size)       ## This is to load the next chunk"
   ]
  },
  {
   "cell_type": "code",
   "execution_count": 54,
   "id": "94fae3aa",
   "metadata": {},
   "outputs": [
    {
     "name": "stdout",
     "output_type": "stream",
     "text": [
      "Hello Worl\n",
      "10\n"
     ]
    }
   ],
   "source": [
    "# seek and tell function\n",
    "\n",
    "# tell:\n",
    " \n",
    "with open('sample1.txt','r') as file:\n",
    "    print(file.read(10))\n",
    "    print(file.tell())   # tell function tells the next character where our buffern is pointing to."
   ]
  },
  {
   "cell_type": "code",
   "execution_count": 65,
   "id": "25925f86",
   "metadata": {},
   "outputs": [
    {
     "name": "stdout",
     "output_type": "stream",
     "text": [
      "Hello Worl\n",
      "10\n",
      "e you?A ne\n",
      "30\n"
     ]
    }
   ],
   "source": [
    "# seek\n",
    "\n",
    "with open('sample1.txt','r') as file:\n",
    "    print(file.read(10))\n",
    "    print(file.tell())\n",
    "    file.seek()   # seek function will set our cursor to the location we are trying to set\n",
    "    print(file.read(10))\n",
    "    print(file.tell())\n",
    "    "
   ]
  },
  {
   "cell_type": "code",
   "execution_count": 66,
   "id": "ffbd58a0",
   "metadata": {},
   "outputs": [],
   "source": [
    "# seek during write\n",
    "\n",
    "\n",
    "with open('sample1.txt','w') as file:\n",
    "    file.write('Hello How are your ?')\n",
    "    file.seek(0)\n",
    "    file.write('C')\n",
    "    \n"
   ]
  },
  {
   "cell_type": "code",
   "execution_count": 67,
   "id": "84e39ec0",
   "metadata": {},
   "outputs": [],
   "source": [
    "# working with binary files\n",
    "\n",
    "with open('images.png','rb') as binary_file:\n",
    "    with open('copy_image.png','wb') as write_binary:\n",
    "        write_binary.write(binary_file.read())"
   ]
  },
  {
   "cell_type": "markdown",
   "id": "e1100892",
   "metadata": {},
   "source": [
    "# Any Data Type inside a file needs to text \n",
    "- Files cannot work with data types like integer float decimal.\n",
    "- Although these data type can be made useful by using type casting.\n",
    "- But for other complex data types like dict, list it won't work as we cannot convert a string / text to dict."
   ]
  },
  {
   "cell_type": "markdown",
   "id": "dfad8a62",
   "metadata": {},
   "source": [
    "# Serialization and Deserialization\n",
    "\n",
    "- Serialization - Process of coverting python data types into JSON format.\n",
    "- Deserialization - Process of converting JSON  to python data type."
   ]
  },
  {
   "cell_type": "code",
   "execution_count": 68,
   "id": "b5e52c27",
   "metadata": {},
   "outputs": [],
   "source": [
    "# serialization using json module\n",
    "import json\n",
    "#list\n",
    "\n",
    "\n",
    "L=[1,2,3,4,5]\n",
    "\n",
    "with open('demo.json','w') as file:\n",
    "    json.dump(L,file)"
   ]
  },
  {
   "cell_type": "code",
   "execution_count": 72,
   "id": "b90ba6c5",
   "metadata": {},
   "outputs": [],
   "source": [
    "dict1={\n",
    "    'name':\"Aryan\",\n",
    "    'age':22,\n",
    "    'gender':\"male\"\n",
    "}\n",
    "\n",
    "with open('demo.json','w') as file:\n",
    "    json.dump(dict1,file,indent=4) # indent = 4 is used because tab consist of 4 spaces"
   ]
  },
  {
   "cell_type": "code",
   "execution_count": 75,
   "id": "5c33bc4d",
   "metadata": {},
   "outputs": [
    {
     "name": "stdout",
     "output_type": "stream",
     "text": [
      "{'name': 'Aryan', 'age': 22, 'gender': 'male'}\n",
      "<class 'dict'>\n"
     ]
    }
   ],
   "source": [
    "# deserialization\n",
    "\n",
    "with open('demo.json','r') as f:\n",
    "    d=json.load(f)\n",
    "    print(d)\n",
    "    print(type(d))"
   ]
  },
  {
   "cell_type": "code",
   "execution_count": 76,
   "id": "8115fc19",
   "metadata": {},
   "outputs": [],
   "source": [
    "# serialize and desrialize a tuple\n",
    "\n",
    "t = (1,2,3,4)\n",
    "\n",
    "with open('demo.json','w') as f:\n",
    "    json.dump(t,f)"
   ]
  },
  {
   "cell_type": "code",
   "execution_count": 79,
   "id": "579f63b0",
   "metadata": {},
   "outputs": [],
   "source": [
    "# serialize and deserialize nested dict\n",
    "\n",
    "d = {\n",
    "    'name':'Aryan',\n",
    "    'marks':[12,13,15,18],\n",
    "    'sub_marks':{\n",
    "        'maths':12,\n",
    "        'sci':13,\n",
    "        'comp_sci':15,\n",
    "        'eng':18\n",
    "    }\n",
    "}\n",
    "\n",
    "with open('demo.json','w') as file:\n",
    "    json.dump(d,file,indent=4)"
   ]
  },
  {
   "cell_type": "code",
   "execution_count": 82,
   "id": "26b99e4b",
   "metadata": {},
   "outputs": [],
   "source": [
    "with open('demo.json','r') as file:\n",
    "    dict2=json.load(file)"
   ]
  },
  {
   "cell_type": "code",
   "execution_count": 83,
   "id": "18fcd827",
   "metadata": {},
   "outputs": [
    {
     "data": {
      "text/plain": [
       "{'name': 'Aryan',\n",
       " 'marks': [12, 13, 15, 18],\n",
       " 'sub_marks': {'maths': 12, 'sci': 13, 'comp_sci': 15, 'eng': 18}}"
      ]
     },
     "execution_count": 83,
     "metadata": {},
     "output_type": "execute_result"
    }
   ],
   "source": [
    "dict2"
   ]
  },
  {
   "cell_type": "markdown",
   "id": "ef523d8c",
   "metadata": {},
   "source": [
    "### Serializing and Deserializing custom objects"
   ]
  },
  {
   "cell_type": "code",
   "execution_count": 96,
   "id": "6dc8eb45",
   "metadata": {},
   "outputs": [],
   "source": [
    "class Person:\n",
    "    def __init__(self,name,age,gender):\n",
    "        self.name=name\n",
    "        self.age=age\n",
    "        self.gender=gender"
   ]
  },
  {
   "cell_type": "code",
   "execution_count": 97,
   "id": "766c622b",
   "metadata": {},
   "outputs": [],
   "source": [
    "p=Person('Aryan',21,'Male')"
   ]
  },
  {
   "cell_type": "code",
   "execution_count": null,
   "id": "6ec4dbc4",
   "metadata": {},
   "outputs": [],
   "source": [
    "with open('demo.json','w') as f:\n",
    "    json.dump(p,f)"
   ]
  },
  {
   "cell_type": "code",
   "execution_count": 100,
   "id": "5ec63081",
   "metadata": {},
   "outputs": [],
   "source": [
    "def show_object(person):\n",
    "    if isinstance(person,Person):\n",
    "        return '{} age ----> {} gender ---->{}'.format(person.name,person.age,person.gender)\n",
    "    \n",
    "with open('demo.json','w') as f:\n",
    "    json.dump(p,f,default=show_object)\n",
    "    "
   ]
  },
  {
   "cell_type": "code",
   "execution_count": 101,
   "id": "d2246eba",
   "metadata": {},
   "outputs": [],
   "source": [
    "def show_object(person):\n",
    "    if isinstance(person,Person):\n",
    "        return {'name':person.name,'age':person.age,'gender':person.gender}\n",
    "    \n",
    "with open('demo.json','w') as f:\n",
    "    json.dump(p,f,default=show_object,indent=4)"
   ]
  },
  {
   "cell_type": "markdown",
   "id": "c4f07df3",
   "metadata": {},
   "source": [
    "# PICKLING\n",
    "\n",
    "Pickling is the process whereby a python object hierarchy is converted into a byte stream , and upickling is the inverse operation , where by a byte stream (from a binary file or bytes-like object) is converted back into object hierarchy."
   ]
  },
  {
   "cell_type": "code",
   "execution_count": 102,
   "id": "5915f479",
   "metadata": {},
   "outputs": [],
   "source": [
    "class Person:\n",
    "    def __init__(self,name,age,gender):\n",
    "        self.name=name\n",
    "        self.age=age\n",
    "        self.gender=gender\n",
    "        \n",
    "    def show_info(self):\n",
    "        print(\"Hi my name is {}.I am {} and {} years old\".format(self.name,self.gender,self.age))"
   ]
  },
  {
   "cell_type": "code",
   "execution_count": 103,
   "id": "3510e7f5",
   "metadata": {},
   "outputs": [],
   "source": [
    "P=Person(\"Aryan\",21,\"Male\")"
   ]
  },
  {
   "cell_type": "code",
   "execution_count": 105,
   "id": "da917f49",
   "metadata": {},
   "outputs": [],
   "source": [
    "import pickle\n",
    "\n",
    "with open('person.pkl','wb') as file:\n",
    "    pickle.dump(P,file)s\n"
   ]
  },
  {
   "cell_type": "code",
   "execution_count": 106,
   "id": "9e655b62",
   "metadata": {},
   "outputs": [],
   "source": [
    "with open('person.pkl','rb') as file:\n",
    "    d=pickle.load(file)"
   ]
  },
  {
   "cell_type": "markdown",
   "id": "d10a03d3",
   "metadata": {},
   "source": [
    "# Pickle vs Json\n",
    "\n",
    "- Pickle lets the user to store data in binary format whereas JSON lets the user to store data in human readable text only."
   ]
  },
  {
   "cell_type": "code",
   "execution_count": null,
   "id": "e40003f3",
   "metadata": {},
   "outputs": [],
   "source": []
  },
  {
   "cell_type": "code",
   "execution_count": null,
   "id": "8a4e19ad",
   "metadata": {},
   "outputs": [],
   "source": []
  },
  {
   "cell_type": "code",
   "execution_count": null,
   "id": "8b47d22f",
   "metadata": {},
   "outputs": [],
   "source": []
  },
  {
   "cell_type": "code",
   "execution_count": null,
   "id": "c97d73ec",
   "metadata": {},
   "outputs": [],
   "source": []
  },
  {
   "cell_type": "code",
   "execution_count": null,
   "id": "aac30b2e",
   "metadata": {},
   "outputs": [],
   "source": []
  },
  {
   "cell_type": "code",
   "execution_count": null,
   "id": "5ce0867c",
   "metadata": {},
   "outputs": [],
   "source": []
  },
  {
   "cell_type": "code",
   "execution_count": null,
   "id": "cf524551",
   "metadata": {},
   "outputs": [],
   "source": []
  },
  {
   "cell_type": "code",
   "execution_count": null,
   "id": "4ca064e4",
   "metadata": {},
   "outputs": [],
   "source": []
  },
  {
   "cell_type": "code",
   "execution_count": null,
   "id": "d2d6d849",
   "metadata": {},
   "outputs": [],
   "source": []
  },
  {
   "cell_type": "code",
   "execution_count": null,
   "id": "5e21cadd",
   "metadata": {},
   "outputs": [],
   "source": []
  },
  {
   "cell_type": "code",
   "execution_count": null,
   "id": "fb6a8673",
   "metadata": {},
   "outputs": [],
   "source": []
  },
  {
   "cell_type": "code",
   "execution_count": null,
   "id": "64a42d9d",
   "metadata": {},
   "outputs": [],
   "source": []
  },
  {
   "cell_type": "code",
   "execution_count": null,
   "id": "dd817318",
   "metadata": {},
   "outputs": [],
   "source": []
  },
  {
   "cell_type": "code",
   "execution_count": null,
   "id": "1bdcefa6",
   "metadata": {},
   "outputs": [],
   "source": []
  },
  {
   "cell_type": "code",
   "execution_count": null,
   "id": "1414201a",
   "metadata": {},
   "outputs": [],
   "source": []
  }
 ],
 "metadata": {
  "kernelspec": {
   "display_name": "Python 3 (ipykernel)",
   "language": "python",
   "name": "python3"
  },
  "language_info": {
   "codemirror_mode": {
    "name": "ipython",
    "version": 3
   },
   "file_extension": ".py",
   "mimetype": "text/x-python",
   "name": "python",
   "nbconvert_exporter": "python",
   "pygments_lexer": "ipython3",
   "version": "3.9.7"
  }
 },
 "nbformat": 4,
 "nbformat_minor": 5
}
